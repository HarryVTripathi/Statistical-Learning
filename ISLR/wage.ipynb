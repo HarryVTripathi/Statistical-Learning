{
 "cells": [
  {
   "cell_type": "code",
   "execution_count": 1,
   "metadata": {},
   "outputs": [],
   "source": [
    "import pandas as pd\n",
    "import numpy as np\n",
    "from numpy.linalg import norm, inv\n",
    "from numpy import transpose\n",
    "import matplotlib.pyplot as plt\n",
    "import seaborn as sns"
   ]
  },
  {
   "cell_type": "code",
   "execution_count": 2,
   "metadata": {},
   "outputs": [],
   "source": [
    "import seaborn as sns"
   ]
  },
  {
   "cell_type": "code",
   "execution_count": 3,
   "metadata": {},
   "outputs": [],
   "source": [
    "wage_data = pd.read_csv('../../Datasets/Others/wage-data/wage.csv')"
   ]
  },
  {
   "cell_type": "code",
   "execution_count": 4,
   "metadata": {},
   "outputs": [
    {
     "name": "stdout",
     "output_type": "stream",
     "text": [
      "<class 'pandas.core.frame.DataFrame'>\n",
      "RangeIndex: 3000 entries, 0 to 2999\n",
      "Data columns (total 11 columns):\n",
      " #   Column      Non-Null Count  Dtype  \n",
      "---  ------      --------------  -----  \n",
      " 0   year        3000 non-null   int64  \n",
      " 1   age         3000 non-null   int64  \n",
      " 2   maritl      3000 non-null   object \n",
      " 3   race        3000 non-null   object \n",
      " 4   education   3000 non-null   object \n",
      " 5   region      3000 non-null   object \n",
      " 6   jobclass    3000 non-null   object \n",
      " 7   health      3000 non-null   object \n",
      " 8   health_ins  3000 non-null   object \n",
      " 9   logwage     3000 non-null   float64\n",
      " 10  wage        3000 non-null   float64\n",
      "dtypes: float64(2), int64(2), object(7)\n",
      "memory usage: 257.9+ KB\n"
     ]
    }
   ],
   "source": [
    "wage_data.info()"
   ]
  },
  {
   "cell_type": "code",
   "execution_count": 5,
   "metadata": {},
   "outputs": [
    {
     "data": {
      "text/html": [
       "<div>\n",
       "<style scoped>\n",
       "    .dataframe tbody tr th:only-of-type {\n",
       "        vertical-align: middle;\n",
       "    }\n",
       "\n",
       "    .dataframe tbody tr th {\n",
       "        vertical-align: top;\n",
       "    }\n",
       "\n",
       "    .dataframe thead th {\n",
       "        text-align: right;\n",
       "    }\n",
       "</style>\n",
       "<table border=\"1\" class=\"dataframe\">\n",
       "  <thead>\n",
       "    <tr style=\"text-align: right;\">\n",
       "      <th></th>\n",
       "      <th>year</th>\n",
       "      <th>age</th>\n",
       "      <th>maritl</th>\n",
       "      <th>race</th>\n",
       "      <th>education</th>\n",
       "      <th>region</th>\n",
       "      <th>jobclass</th>\n",
       "      <th>health</th>\n",
       "      <th>health_ins</th>\n",
       "      <th>logwage</th>\n",
       "      <th>wage</th>\n",
       "    </tr>\n",
       "  </thead>\n",
       "  <tbody>\n",
       "    <tr>\n",
       "      <th>0</th>\n",
       "      <td>2006</td>\n",
       "      <td>18</td>\n",
       "      <td>1. Never Married</td>\n",
       "      <td>1. White</td>\n",
       "      <td>1. &lt; HS Grad</td>\n",
       "      <td>2. Middle Atlantic</td>\n",
       "      <td>1. Industrial</td>\n",
       "      <td>1. &lt;=Good</td>\n",
       "      <td>2. No</td>\n",
       "      <td>4.318063</td>\n",
       "      <td>75.043154</td>\n",
       "    </tr>\n",
       "    <tr>\n",
       "      <th>1</th>\n",
       "      <td>2004</td>\n",
       "      <td>24</td>\n",
       "      <td>1. Never Married</td>\n",
       "      <td>1. White</td>\n",
       "      <td>4. College Grad</td>\n",
       "      <td>2. Middle Atlantic</td>\n",
       "      <td>2. Information</td>\n",
       "      <td>2. &gt;=Very Good</td>\n",
       "      <td>2. No</td>\n",
       "      <td>4.255273</td>\n",
       "      <td>70.476020</td>\n",
       "    </tr>\n",
       "    <tr>\n",
       "      <th>2</th>\n",
       "      <td>2003</td>\n",
       "      <td>45</td>\n",
       "      <td>2. Married</td>\n",
       "      <td>1. White</td>\n",
       "      <td>3. Some College</td>\n",
       "      <td>2. Middle Atlantic</td>\n",
       "      <td>1. Industrial</td>\n",
       "      <td>1. &lt;=Good</td>\n",
       "      <td>1. Yes</td>\n",
       "      <td>4.875061</td>\n",
       "      <td>130.982177</td>\n",
       "    </tr>\n",
       "    <tr>\n",
       "      <th>3</th>\n",
       "      <td>2003</td>\n",
       "      <td>43</td>\n",
       "      <td>2. Married</td>\n",
       "      <td>3. Asian</td>\n",
       "      <td>4. College Grad</td>\n",
       "      <td>2. Middle Atlantic</td>\n",
       "      <td>2. Information</td>\n",
       "      <td>2. &gt;=Very Good</td>\n",
       "      <td>1. Yes</td>\n",
       "      <td>5.041393</td>\n",
       "      <td>154.685293</td>\n",
       "    </tr>\n",
       "    <tr>\n",
       "      <th>4</th>\n",
       "      <td>2005</td>\n",
       "      <td>50</td>\n",
       "      <td>4. Divorced</td>\n",
       "      <td>1. White</td>\n",
       "      <td>2. HS Grad</td>\n",
       "      <td>2. Middle Atlantic</td>\n",
       "      <td>2. Information</td>\n",
       "      <td>1. &lt;=Good</td>\n",
       "      <td>1. Yes</td>\n",
       "      <td>4.318063</td>\n",
       "      <td>75.043154</td>\n",
       "    </tr>\n",
       "  </tbody>\n",
       "</table>\n",
       "</div>"
      ],
      "text/plain": [
       "   year  age            maritl      race        education              region  \\\n",
       "0  2006   18  1. Never Married  1. White     1. < HS Grad  2. Middle Atlantic   \n",
       "1  2004   24  1. Never Married  1. White  4. College Grad  2. Middle Atlantic   \n",
       "2  2003   45        2. Married  1. White  3. Some College  2. Middle Atlantic   \n",
       "3  2003   43        2. Married  3. Asian  4. College Grad  2. Middle Atlantic   \n",
       "4  2005   50       4. Divorced  1. White       2. HS Grad  2. Middle Atlantic   \n",
       "\n",
       "         jobclass          health health_ins   logwage        wage  \n",
       "0   1. Industrial       1. <=Good      2. No  4.318063   75.043154  \n",
       "1  2. Information  2. >=Very Good      2. No  4.255273   70.476020  \n",
       "2   1. Industrial       1. <=Good     1. Yes  4.875061  130.982177  \n",
       "3  2. Information  2. >=Very Good     1. Yes  5.041393  154.685293  \n",
       "4  2. Information       1. <=Good     1. Yes  4.318063   75.043154  "
      ]
     },
     "execution_count": 5,
     "metadata": {},
     "output_type": "execute_result"
    }
   ],
   "source": [
    "wage_data.head()"
   ]
  },
  {
   "cell_type": "code",
   "execution_count": 6,
   "metadata": {},
   "outputs": [
    {
     "data": {
      "text/plain": [
       "2. Married          2074\n",
       "1. Never Married     648\n",
       "4. Divorced          204\n",
       "5. Separated          55\n",
       "3. Widowed            19\n",
       "Name: maritl, dtype: int64"
      ]
     },
     "execution_count": 6,
     "metadata": {},
     "output_type": "execute_result"
    }
   ],
   "source": [
    "wage_data[\"maritl\"].value_counts()"
   ]
  },
  {
   "cell_type": "code",
   "execution_count": 7,
   "metadata": {},
   "outputs": [
    {
     "data": {
      "text/plain": [
       "1. White    2480\n",
       "2. Black     293\n",
       "3. Asian     190\n",
       "4. Other      37\n",
       "Name: race, dtype: int64"
      ]
     },
     "execution_count": 7,
     "metadata": {},
     "output_type": "execute_result"
    }
   ],
   "source": [
    "wage_data[\"race\"].value_counts()"
   ]
  },
  {
   "cell_type": "code",
   "execution_count": 8,
   "metadata": {},
   "outputs": [
    {
     "data": {
      "text/plain": [
       "2. HS Grad            971\n",
       "4. College Grad       685\n",
       "3. Some College       650\n",
       "5. Advanced Degree    426\n",
       "1. < HS Grad          268\n",
       "Name: education, dtype: int64"
      ]
     },
     "execution_count": 8,
     "metadata": {},
     "output_type": "execute_result"
    }
   ],
   "source": [
    "wage_data[\"education\"].value_counts()"
   ]
  },
  {
   "cell_type": "code",
   "execution_count": 9,
   "metadata": {},
   "outputs": [
    {
     "data": {
      "text/plain": [
       "1. Industrial     1544\n",
       "2. Information    1456\n",
       "Name: jobclass, dtype: int64"
      ]
     },
     "execution_count": 9,
     "metadata": {},
     "output_type": "execute_result"
    }
   ],
   "source": [
    "wage_data[\"jobclass\"].value_counts()"
   ]
  },
  {
   "cell_type": "code",
   "execution_count": 10,
   "metadata": {},
   "outputs": [
    {
     "data": {
      "text/plain": [
       "1. Industrial     1544\n",
       "2. Information    1456\n",
       "Name: jobclass, dtype: int64"
      ]
     },
     "execution_count": 10,
     "metadata": {},
     "output_type": "execute_result"
    }
   ],
   "source": [
    "wage_data[\"jobclass\"].value_counts()"
   ]
  },
  {
   "cell_type": "code",
   "execution_count": 11,
   "metadata": {},
   "outputs": [],
   "source": [
    "def f(x):\n",
    "    if isinstance(x, str):\n",
    "        return x.split(\".\")[-1].strip()\n",
    "    else:\n",
    "        return x\n",
    "\n",
    "def g(x):\n",
    "    if isinstance(x, str):\n",
    "        return int(x.split(\".\")[0].strip())\n",
    "    else:\n",
    "        return x\n",
    "\n",
    "wage_data_clean = wage_data.copy()\n",
    "wage_data_clean[\"education\"] = wage_data[\"education\"].apply(g)\n",
    "wage_data_clean[\"race\"] = wage_data[\"race\"].apply(f)\n",
    "wage_data_clean[\"maritl\"] = wage_data[\"maritl\"].apply(lambda x: 0 if x == \"2. Married\" else 1)\n",
    "wage_data_clean[\"region\"] = wage_data[\"region\"].apply(f)\n",
    "wage_data_clean[\"jobclass\"] = wage_data[\"jobclass\"].apply(g)\n",
    "wage_data_clean[\"health\"] = wage_data[\"health\"].apply(g)\n",
    "wage_data_clean[\"health_ins\"] = wage_data[\"health_ins\"].apply(g)"
   ]
  },
  {
   "cell_type": "code",
   "execution_count": 12,
   "metadata": {},
   "outputs": [
    {
     "data": {
      "text/html": [
       "<div>\n",
       "<style scoped>\n",
       "    .dataframe tbody tr th:only-of-type {\n",
       "        vertical-align: middle;\n",
       "    }\n",
       "\n",
       "    .dataframe tbody tr th {\n",
       "        vertical-align: top;\n",
       "    }\n",
       "\n",
       "    .dataframe thead th {\n",
       "        text-align: right;\n",
       "    }\n",
       "</style>\n",
       "<table border=\"1\" class=\"dataframe\">\n",
       "  <thead>\n",
       "    <tr style=\"text-align: right;\">\n",
       "      <th></th>\n",
       "      <th>year</th>\n",
       "      <th>age</th>\n",
       "      <th>maritl</th>\n",
       "      <th>race</th>\n",
       "      <th>education</th>\n",
       "      <th>region</th>\n",
       "      <th>jobclass</th>\n",
       "      <th>health</th>\n",
       "      <th>health_ins</th>\n",
       "      <th>logwage</th>\n",
       "      <th>wage</th>\n",
       "    </tr>\n",
       "  </thead>\n",
       "  <tbody>\n",
       "    <tr>\n",
       "      <th>0</th>\n",
       "      <td>2006</td>\n",
       "      <td>18</td>\n",
       "      <td>1</td>\n",
       "      <td>White</td>\n",
       "      <td>1</td>\n",
       "      <td>Middle Atlantic</td>\n",
       "      <td>1</td>\n",
       "      <td>1</td>\n",
       "      <td>2</td>\n",
       "      <td>4.318063</td>\n",
       "      <td>75.043154</td>\n",
       "    </tr>\n",
       "    <tr>\n",
       "      <th>1</th>\n",
       "      <td>2004</td>\n",
       "      <td>24</td>\n",
       "      <td>1</td>\n",
       "      <td>White</td>\n",
       "      <td>4</td>\n",
       "      <td>Middle Atlantic</td>\n",
       "      <td>2</td>\n",
       "      <td>2</td>\n",
       "      <td>2</td>\n",
       "      <td>4.255273</td>\n",
       "      <td>70.476020</td>\n",
       "    </tr>\n",
       "    <tr>\n",
       "      <th>2</th>\n",
       "      <td>2003</td>\n",
       "      <td>45</td>\n",
       "      <td>0</td>\n",
       "      <td>White</td>\n",
       "      <td>3</td>\n",
       "      <td>Middle Atlantic</td>\n",
       "      <td>1</td>\n",
       "      <td>1</td>\n",
       "      <td>1</td>\n",
       "      <td>4.875061</td>\n",
       "      <td>130.982177</td>\n",
       "    </tr>\n",
       "    <tr>\n",
       "      <th>3</th>\n",
       "      <td>2003</td>\n",
       "      <td>43</td>\n",
       "      <td>0</td>\n",
       "      <td>Asian</td>\n",
       "      <td>4</td>\n",
       "      <td>Middle Atlantic</td>\n",
       "      <td>2</td>\n",
       "      <td>2</td>\n",
       "      <td>1</td>\n",
       "      <td>5.041393</td>\n",
       "      <td>154.685293</td>\n",
       "    </tr>\n",
       "    <tr>\n",
       "      <th>4</th>\n",
       "      <td>2005</td>\n",
       "      <td>50</td>\n",
       "      <td>1</td>\n",
       "      <td>White</td>\n",
       "      <td>2</td>\n",
       "      <td>Middle Atlantic</td>\n",
       "      <td>2</td>\n",
       "      <td>1</td>\n",
       "      <td>1</td>\n",
       "      <td>4.318063</td>\n",
       "      <td>75.043154</td>\n",
       "    </tr>\n",
       "    <tr>\n",
       "      <th>5</th>\n",
       "      <td>2008</td>\n",
       "      <td>54</td>\n",
       "      <td>0</td>\n",
       "      <td>White</td>\n",
       "      <td>4</td>\n",
       "      <td>Middle Atlantic</td>\n",
       "      <td>2</td>\n",
       "      <td>2</td>\n",
       "      <td>1</td>\n",
       "      <td>4.845098</td>\n",
       "      <td>127.115744</td>\n",
       "    </tr>\n",
       "    <tr>\n",
       "      <th>6</th>\n",
       "      <td>2009</td>\n",
       "      <td>44</td>\n",
       "      <td>0</td>\n",
       "      <td>Other</td>\n",
       "      <td>3</td>\n",
       "      <td>Middle Atlantic</td>\n",
       "      <td>1</td>\n",
       "      <td>2</td>\n",
       "      <td>1</td>\n",
       "      <td>5.133021</td>\n",
       "      <td>169.528538</td>\n",
       "    </tr>\n",
       "    <tr>\n",
       "      <th>7</th>\n",
       "      <td>2008</td>\n",
       "      <td>30</td>\n",
       "      <td>1</td>\n",
       "      <td>Asian</td>\n",
       "      <td>3</td>\n",
       "      <td>Middle Atlantic</td>\n",
       "      <td>2</td>\n",
       "      <td>1</td>\n",
       "      <td>1</td>\n",
       "      <td>4.716003</td>\n",
       "      <td>111.720849</td>\n",
       "    </tr>\n",
       "    <tr>\n",
       "      <th>8</th>\n",
       "      <td>2006</td>\n",
       "      <td>41</td>\n",
       "      <td>1</td>\n",
       "      <td>Black</td>\n",
       "      <td>3</td>\n",
       "      <td>Middle Atlantic</td>\n",
       "      <td>2</td>\n",
       "      <td>2</td>\n",
       "      <td>1</td>\n",
       "      <td>4.778151</td>\n",
       "      <td>118.884359</td>\n",
       "    </tr>\n",
       "    <tr>\n",
       "      <th>9</th>\n",
       "      <td>2004</td>\n",
       "      <td>52</td>\n",
       "      <td>0</td>\n",
       "      <td>White</td>\n",
       "      <td>2</td>\n",
       "      <td>Middle Atlantic</td>\n",
       "      <td>2</td>\n",
       "      <td>2</td>\n",
       "      <td>1</td>\n",
       "      <td>4.857332</td>\n",
       "      <td>128.680488</td>\n",
       "    </tr>\n",
       "  </tbody>\n",
       "</table>\n",
       "</div>"
      ],
      "text/plain": [
       "   year  age  maritl   race  education           region  jobclass  health  \\\n",
       "0  2006   18       1  White          1  Middle Atlantic         1       1   \n",
       "1  2004   24       1  White          4  Middle Atlantic         2       2   \n",
       "2  2003   45       0  White          3  Middle Atlantic         1       1   \n",
       "3  2003   43       0  Asian          4  Middle Atlantic         2       2   \n",
       "4  2005   50       1  White          2  Middle Atlantic         2       1   \n",
       "5  2008   54       0  White          4  Middle Atlantic         2       2   \n",
       "6  2009   44       0  Other          3  Middle Atlantic         1       2   \n",
       "7  2008   30       1  Asian          3  Middle Atlantic         2       1   \n",
       "8  2006   41       1  Black          3  Middle Atlantic         2       2   \n",
       "9  2004   52       0  White          2  Middle Atlantic         2       2   \n",
       "\n",
       "   health_ins   logwage        wage  \n",
       "0           2  4.318063   75.043154  \n",
       "1           2  4.255273   70.476020  \n",
       "2           1  4.875061  130.982177  \n",
       "3           1  5.041393  154.685293  \n",
       "4           1  4.318063   75.043154  \n",
       "5           1  4.845098  127.115744  \n",
       "6           1  5.133021  169.528538  \n",
       "7           1  4.716003  111.720849  \n",
       "8           1  4.778151  118.884359  \n",
       "9           1  4.857332  128.680488  "
      ]
     },
     "execution_count": 12,
     "metadata": {},
     "output_type": "execute_result"
    }
   ],
   "source": [
    "wage_data_clean.head(10)"
   ]
  },
  {
   "cell_type": "code",
   "execution_count": 13,
   "metadata": {},
   "outputs": [],
   "source": [
    "wage_clean = wage_data_clean.drop(labels=[\"race\", \"region\"], axis=1)"
   ]
  },
  {
   "cell_type": "code",
   "execution_count": 14,
   "metadata": {},
   "outputs": [
    {
     "data": {
      "image/png": "[encoded data removed]",
      "text/plain": [
       "<Figure size 864x648 with 2 Axes>"
      ]
     },
     "metadata": {
      "needs_background": "light"
     },
     "output_type": "display_data"
    }
   ],
   "source": [
    "plt.figure(figsize=(12,9 ))\n",
    "sns.heatmap(wage_clean.corr(), annot=True)\n",
    "plt.show()"
   ]
  },
  {
   "cell_type": "markdown",
   "metadata": {},
   "source": [
    "Wage and logwage are extremely correlated"
   ]
  },
  {
   "cell_type": "code",
   "execution_count": 15,
   "metadata": {},
   "outputs": [],
   "source": [
    "wage_clean.drop(labels=[\"logwage\"], axis=1, inplace=True)"
   ]
  },
  {
   "cell_type": "code",
   "execution_count": 16,
   "metadata": {
    "scrolled": false
   },
   "outputs": [
    {
     "data": {
      "text/html": [
       "<div>\n",
       "<style scoped>\n",
       "    .dataframe tbody tr th:only-of-type {\n",
       "        vertical-align: middle;\n",
       "    }\n",
       "\n",
       "    .dataframe tbody tr th {\n",
       "        vertical-align: top;\n",
       "    }\n",
       "\n",
       "    .dataframe thead th {\n",
       "        text-align: right;\n",
       "    }\n",
       "</style>\n",
       "<table border=\"1\" class=\"dataframe\">\n",
       "  <thead>\n",
       "    <tr style=\"text-align: right;\">\n",
       "      <th></th>\n",
       "      <th>year</th>\n",
       "      <th>age</th>\n",
       "      <th>maritl</th>\n",
       "      <th>education</th>\n",
       "      <th>jobclass</th>\n",
       "      <th>health</th>\n",
       "      <th>health_ins</th>\n",
       "      <th>wage</th>\n",
       "    </tr>\n",
       "  </thead>\n",
       "  <tbody>\n",
       "    <tr>\n",
       "      <th>0</th>\n",
       "      <td>2006</td>\n",
       "      <td>18</td>\n",
       "      <td>1</td>\n",
       "      <td>1</td>\n",
       "      <td>1</td>\n",
       "      <td>1</td>\n",
       "      <td>2</td>\n",
       "      <td>75.043154</td>\n",
       "    </tr>\n",
       "    <tr>\n",
       "      <th>1</th>\n",
       "      <td>2004</td>\n",
       "      <td>24</td>\n",
       "      <td>1</td>\n",
       "      <td>4</td>\n",
       "      <td>2</td>\n",
       "      <td>2</td>\n",
       "      <td>2</td>\n",
       "      <td>70.476020</td>\n",
       "    </tr>\n",
       "    <tr>\n",
       "      <th>2</th>\n",
       "      <td>2003</td>\n",
       "      <td>45</td>\n",
       "      <td>0</td>\n",
       "      <td>3</td>\n",
       "      <td>1</td>\n",
       "      <td>1</td>\n",
       "      <td>1</td>\n",
       "      <td>130.982177</td>\n",
       "    </tr>\n",
       "    <tr>\n",
       "      <th>3</th>\n",
       "      <td>2003</td>\n",
       "      <td>43</td>\n",
       "      <td>0</td>\n",
       "      <td>4</td>\n",
       "      <td>2</td>\n",
       "      <td>2</td>\n",
       "      <td>1</td>\n",
       "      <td>154.685293</td>\n",
       "    </tr>\n",
       "    <tr>\n",
       "      <th>4</th>\n",
       "      <td>2005</td>\n",
       "      <td>50</td>\n",
       "      <td>1</td>\n",
       "      <td>2</td>\n",
       "      <td>2</td>\n",
       "      <td>1</td>\n",
       "      <td>1</td>\n",
       "      <td>75.043154</td>\n",
       "    </tr>\n",
       "    <tr>\n",
       "      <th>...</th>\n",
       "      <td>...</td>\n",
       "      <td>...</td>\n",
       "      <td>...</td>\n",
       "      <td>...</td>\n",
       "      <td>...</td>\n",
       "      <td>...</td>\n",
       "      <td>...</td>\n",
       "      <td>...</td>\n",
       "    </tr>\n",
       "    <tr>\n",
       "      <th>2995</th>\n",
       "      <td>2008</td>\n",
       "      <td>44</td>\n",
       "      <td>0</td>\n",
       "      <td>3</td>\n",
       "      <td>1</td>\n",
       "      <td>2</td>\n",
       "      <td>1</td>\n",
       "      <td>154.685293</td>\n",
       "    </tr>\n",
       "    <tr>\n",
       "      <th>2996</th>\n",
       "      <td>2007</td>\n",
       "      <td>30</td>\n",
       "      <td>0</td>\n",
       "      <td>2</td>\n",
       "      <td>1</td>\n",
       "      <td>2</td>\n",
       "      <td>2</td>\n",
       "      <td>99.689464</td>\n",
       "    </tr>\n",
       "    <tr>\n",
       "      <th>2997</th>\n",
       "      <td>2005</td>\n",
       "      <td>27</td>\n",
       "      <td>0</td>\n",
       "      <td>1</td>\n",
       "      <td>1</td>\n",
       "      <td>1</td>\n",
       "      <td>2</td>\n",
       "      <td>66.229408</td>\n",
       "    </tr>\n",
       "    <tr>\n",
       "      <th>2998</th>\n",
       "      <td>2005</td>\n",
       "      <td>27</td>\n",
       "      <td>1</td>\n",
       "      <td>3</td>\n",
       "      <td>1</td>\n",
       "      <td>2</td>\n",
       "      <td>1</td>\n",
       "      <td>87.981033</td>\n",
       "    </tr>\n",
       "    <tr>\n",
       "      <th>2999</th>\n",
       "      <td>2009</td>\n",
       "      <td>55</td>\n",
       "      <td>1</td>\n",
       "      <td>2</td>\n",
       "      <td>1</td>\n",
       "      <td>1</td>\n",
       "      <td>1</td>\n",
       "      <td>90.481913</td>\n",
       "    </tr>\n",
       "  </tbody>\n",
       "</table>\n",
       "<p>3000 rows × 8 columns</p>\n",
       "</div>"
      ],
      "text/plain": [
       "      year  age  maritl  education  jobclass  health  health_ins        wage\n",
       "0     2006   18       1          1         1       1           2   75.043154\n",
       "1     2004   24       1          4         2       2           2   70.476020\n",
       "2     2003   45       0          3         1       1           1  130.982177\n",
       "3     2003   43       0          4         2       2           1  154.685293\n",
       "4     2005   50       1          2         2       1           1   75.043154\n",
       "...    ...  ...     ...        ...       ...     ...         ...         ...\n",
       "2995  2008   44       0          3         1       2           1  154.685293\n",
       "2996  2007   30       0          2         1       2           2   99.689464\n",
       "2997  2005   27       0          1         1       1           2   66.229408\n",
       "2998  2005   27       1          3         1       2           1   87.981033\n",
       "2999  2009   55       1          2         1       1           1   90.481913\n",
       "\n",
       "[3000 rows x 8 columns]"
      ]
     },
     "execution_count": 16,
     "metadata": {},
     "output_type": "execute_result"
    }
   ],
   "source": [
    "wage_clean"
   ]
  },
  {
   "cell_type": "markdown",
   "metadata": {},
   "source": [
    "### Scaling and splitting"
   ]
  },
  {
   "cell_type": "code",
   "execution_count": 17,
   "metadata": {},
   "outputs": [],
   "source": [
    "from sklearn.preprocessing import StandardScaler, PolynomialFeatures\n",
    "from sklearn.model_selection import train_test_split\n",
    "from sklearn.linear_model import LinearRegression"
   ]
  },
  {
   "cell_type": "code",
   "execution_count": 18,
   "metadata": {},
   "outputs": [],
   "source": [
    "target = [\"wage\"]\n",
    "predictors = list(set(wage_clean.columns) - set(target))\n",
    "X = wage_clean[predictors].values\n",
    "y = wage_clean[target].values\n",
    "\n",
    "X_train, X_test, y_train, y_test = train_test_split(X, y, test_size=0.2, random_state=42)"
   ]
  },
  {
   "cell_type": "code",
   "execution_count": 19,
   "metadata": {},
   "outputs": [
    {
     "data": {
      "text/plain": [
       "(2400, 7)"
      ]
     },
     "execution_count": 19,
     "metadata": {},
     "output_type": "execute_result"
    }
   ],
   "source": [
    "X_train.shape"
   ]
  },
  {
   "cell_type": "code",
   "execution_count": 20,
   "metadata": {},
   "outputs": [
    {
     "data": {
      "text/plain": [
       "(2400, 1)"
      ]
     },
     "execution_count": 20,
     "metadata": {},
     "output_type": "execute_result"
    }
   ],
   "source": [
    "y_train.shape"
   ]
  },
  {
   "cell_type": "code",
   "execution_count": 21,
   "metadata": {},
   "outputs": [],
   "source": [
    "sc = StandardScaler()\n",
    "X_train_scaled = sc.fit_transform(X_train)\n",
    "X_test_scaled = sc.transform(X_test)"
   ]
  },
  {
   "cell_type": "code",
   "execution_count": 22,
   "metadata": {},
   "outputs": [],
   "source": [
    "regressor = LinearRegression()\n",
    "regressor.fit(X=X_train_scaled, y=y_train)\n",
    "y_pred = regressor.predict(X_test_scaled)"
   ]
  },
  {
   "cell_type": "code",
   "execution_count": 23,
   "metadata": {},
   "outputs": [
    {
     "data": {
      "text/plain": [
       "array([[16.08401604,  4.36030341,  1.65708975,  2.39349746, -7.14441342,\n",
       "        -7.62967198,  3.26395813]])"
      ]
     },
     "execution_count": 23,
     "metadata": {},
     "output_type": "execute_result"
    }
   ],
   "source": [
    "regressor.coef_"
   ]
  },
  {
   "cell_type": "code",
   "execution_count": 24,
   "metadata": {},
   "outputs": [],
   "source": [
    "from sklearn.metrics import r2_score, mean_squared_error"
   ]
  },
  {
   "cell_type": "code",
   "execution_count": 25,
   "metadata": {},
   "outputs": [
    {
     "data": {
      "text/plain": [
       "982.817327151373"
      ]
     },
     "execution_count": 25,
     "metadata": {},
     "output_type": "execute_result"
    }
   ],
   "source": [
    "mean_squared_error(y_true=y_test, y_pred=y_pred)"
   ]
  },
  {
   "cell_type": "code",
   "execution_count": 26,
   "metadata": {},
   "outputs": [
    {
     "data": {
      "text/plain": [
       "0.3695920462426965"
      ]
     },
     "execution_count": 26,
     "metadata": {},
     "output_type": "execute_result"
    }
   ],
   "source": [
    "r2_score(y_true=y_test, y_pred=y_pred)"
   ]
  },
  {
   "cell_type": "markdown",
   "metadata": {},
   "source": [
    "### MBGD v2"
   ]
  },
  {
   "cell_type": "code",
   "execution_count": 158,
   "metadata": {},
   "outputs": [],
   "source": [
    "import random\n",
    "class MiniBatchGenerator:\n",
    "    def __init__(self, X, y, batch_size=32):\n",
    "        self.X = X\n",
    "        self.y = y\n",
    "        self.n = X.shape[0]\n",
    "        self.d = X.shape[1]\n",
    "        self.batch_size = batch_size\n",
    "        self.batches = []\n",
    "        \n",
    "    def generate_batches(self):\n",
    "        print(f\"Generating minibatch. Batch size: {self.batch_size}, data: {self.n}\")\n",
    "        X = self.X\n",
    "        y = self.y\n",
    "        n = self.n\n",
    "        d = self.d\n",
    "        batch_size = self.batch_size\n",
    "    \n",
    "        random_offset = 0 if n % batch_size == 0 else np.random.randint(low=0, high=(n%batch_size))\n",
    "        last = (n // batch_size) * batch_size\n",
    "        \n",
    "        X_trunc = X[random_offset: random_offset+last]\n",
    "        y_trunc = y[random_offset: random_offset+last]\n",
    "        \n",
    "        X_minibatch = X_trunc.reshape(((n // batch_size), batch_size, d))\n",
    "        y_minibatch = y_trunc.reshape(((n // batch_size), batch_size))\n",
    "        \n",
    "        minibatches = list(zip(X_minibatch, y_minibatch))\n",
    "        random.shuffle(minibatches)\n",
    "        print(X_minibatch.shape)\n",
    "        self.batches = minibatches\n",
    "\n",
    "    def __next__(self):\n",
    "        if not self.batches:\n",
    "            self.generate_batches()\n",
    "            \n",
    "        return self.batches.pop(0)\n",
    "\n",
    "    \n",
    "def loss_function(X, y, w, w0, n):\n",
    "    ones = np.ones(shape=(X.shape[0],))\n",
    "\n",
    "    f = y - (X @ w + w0 * ones)\n",
    "    L_w = (1/n) * (-2 * X.T @ f)\n",
    "    L_w0 = (1/n) * (-2 * ones @ f)\n",
    "    \n",
    "    return L_w0, L_w\n",
    "\n",
    "\n",
    "def mbgd_v2(X, y, eps=0.01, lr=0.01):\n",
    "    assert isinstance(X, np.ndarray)\n",
    "    assert isinstance(y, np.ndarray)\n",
    "    \n",
    "    assert X.ndim == 2\n",
    "    assert y.ndim == 2\n",
    "\n",
    "    n, d = X.shape\n",
    "\n",
    "    w_curr = np.random.rand(X.shape[-1]) * 1\n",
    "    w0_curr = np.random.randint(1)\n",
    "    \n",
    "    del_w = np.ones(shape=w_curr.shape)\n",
    "    del_w0 = 1\n",
    "    \n",
    "    i = 0\n",
    "    mbg = MiniBatchGenerator(X, y, batch_size=32)\n",
    "    while any(del_w) > 0 and i < 270:\n",
    "        X_mb, y_mb = next(mbg)\n",
    "\n",
    "        L_w0, L_w = loss_function(X_mb, y_mb, w_curr, w0_curr, 32)\n",
    "        w_next = w_curr - lr * L_w * del_w\n",
    "        w0_next = w0_curr - lr * L_w0 * del_w0\n",
    "        \n",
    "        del_w = np.where(np.abs(w0_next - w_curr) < eps, 0, 1)\n",
    "        del_w0 = np.where(np.abs(w0_next - w0_curr) < eps, 0, 1)\n",
    "        \n",
    "        w_curr = w_next\n",
    "        w0_curr = w0_next\n",
    "    \n",
    "        i += 1\n",
    "    \n",
    "    return w_curr, w0_curr"
   ]
  },
  {
   "cell_type": "code",
   "execution_count": 159,
   "metadata": {},
   "outputs": [
    {
     "data": {
      "text/plain": [
       "(2400, 7)"
      ]
     },
     "execution_count": 159,
     "metadata": {},
     "output_type": "execute_result"
    }
   ],
   "source": [
    "X_train_scaled.shape"
   ]
  },
  {
   "cell_type": "code",
   "execution_count": 160,
   "metadata": {},
   "outputs": [
    {
     "data": {
      "text/plain": [
       "(2400, 1)"
      ]
     },
     "execution_count": 160,
     "metadata": {},
     "output_type": "execute_result"
    }
   ],
   "source": [
    "y_train.shape"
   ]
  },
  {
   "cell_type": "code",
   "execution_count": 161,
   "metadata": {},
   "outputs": [
    {
     "name": "stdout",
     "output_type": "stream",
     "text": [
      "Generating minibatch. Batch size: 32, data: 2400\n",
      "(75, 32, 7)\n",
      "Generating minibatch. Batch size: 32, data: 2400\n",
      "(75, 32, 7)\n",
      "Generating minibatch. Batch size: 32, data: 2400\n",
      "(75, 32, 7)\n",
      "Generating minibatch. Batch size: 32, data: 2400\n",
      "(75, 32, 7)\n"
     ]
    }
   ],
   "source": [
    "w_curr, w0_curr = mbgd_v2(X_train_scaled, y_train)"
   ]
  },
  {
   "cell_type": "code",
   "execution_count": 162,
   "metadata": {},
   "outputs": [
    {
     "data": {
      "text/plain": [
       "(array([16.40242093,  3.91714949,  2.09146878,  2.21926662, -6.51006848,\n",
       "        -7.63131284,  3.73596305]),\n",
       " 105.01673840788582)"
      ]
     },
     "execution_count": 162,
     "metadata": {},
     "output_type": "execute_result"
    }
   ],
   "source": [
    "w_curr, w0_curr"
   ]
  },
  {
   "cell_type": "code",
   "execution_count": 163,
   "metadata": {},
   "outputs": [],
   "source": [
    "y_pred_gd = (X_test_scaled @ w_curr) + w0_curr"
   ]
  },
  {
   "cell_type": "code",
   "execution_count": 164,
   "metadata": {},
   "outputs": [
    {
     "data": {
      "text/plain": [
       "1033.9977243936285"
      ]
     },
     "execution_count": 164,
     "metadata": {},
     "output_type": "execute_result"
    }
   ],
   "source": [
    "mean_squared_error(y_true=y_test, y_pred=y_pred_gd)"
   ]
  },
  {
   "cell_type": "code",
   "execution_count": 165,
   "metadata": {},
   "outputs": [
    {
     "data": {
      "text/plain": [
       "0.3367634334306975"
      ]
     },
     "execution_count": 165,
     "metadata": {},
     "output_type": "execute_result"
    }
   ],
   "source": [
    "r2_score(y_true=y_test, y_pred=y_pred_gd)"
   ]
  },
  {
   "cell_type": "code",
   "execution_count": null,
   "metadata": {},
   "outputs": [],
   "source": []
  },
  {
   "cell_type": "code",
   "execution_count": null,
   "metadata": {},
   "outputs": [],
   "source": []
  },
  {
   "cell_type": "code",
   "execution_count": null,
   "metadata": {},
   "outputs": [],
   "source": []
  },
  {
   "cell_type": "markdown",
   "metadata": {},
   "source": [
    "### Using Minibatch GD"
   ]
  },
  {
   "cell_type": "code",
   "execution_count": 46,
   "metadata": {},
   "outputs": [],
   "source": [
    "import random\n",
    "class MiniBatchGenerator:\n",
    "    def __init__(self, X, y, batch_size=32):\n",
    "        self.X = X\n",
    "        self.y = y\n",
    "        self.n = X.shape[0]\n",
    "        self.d = X.shape[1]\n",
    "        self.batch_size = batch_size\n",
    "        self.batches = []\n",
    "        \n",
    "    def generate_batches(self):\n",
    "        print(f\"Generating minibatch. Batch size: {self.batch_size}, data: {self.n}\")\n",
    "        X = self.X\n",
    "        y = self.y\n",
    "        n = self.n\n",
    "        d = self.d\n",
    "        batch_size = self.batch_size\n",
    "    \n",
    "        random_offset = 0 if n % batch_size == 0 else np.random.randint(low=0, high=(n%batch_size))\n",
    "        last = (n // batch_size) * batch_size\n",
    "        \n",
    "        X_trunc = X[random_offset: random_offset+last]\n",
    "        y_trunc = y[random_offset: random_offset+last]\n",
    "        \n",
    "        X_minibatch = X_trunc.reshape(((n // batch_size), batch_size, d))\n",
    "        y_minibatch = y_trunc.reshape(((n // batch_size), batch_size))\n",
    "        \n",
    "        minibatches = list(zip(X_minibatch, y_minibatch))\n",
    "        random.shuffle(minibatches)\n",
    "        print(X_minibatch.shape)\n",
    "        self.batches = minibatches\n",
    "\n",
    "    def __next__(self):\n",
    "        if not self.batches:\n",
    "            self.generate_batches()\n",
    "            \n",
    "        return self.batches.pop(0)\n",
    "\n",
    "    \n",
    "def loss_function(X, y, w, w0):\n",
    "    ones = np.ones(shape=(X.shape[0],))\n",
    "\n",
    "    f = y - (X @ w + w0 * ones)\n",
    "    L_w = (-2 * X.T @ f)\n",
    "    L_w0 = (-2 * ones @ f)\n",
    "    \n",
    "    return L_w0, L_w\n",
    "\n",
    "\n",
    "def minibatch_gradient_descent(X, y, eps=0.01, lr=0.001):\n",
    "    assert isinstance(X, np.ndarray)\n",
    "    assert isinstance(y, np.ndarray)\n",
    "    \n",
    "    assert X.ndim == 2\n",
    "    assert y.ndim == 1\n",
    "\n",
    "    n, d = X.shape\n",
    "\n",
    "    w_curr = np.random.rand(X.shape[-1]) * 1\n",
    "    w0_curr = np.random.randint(1)\n",
    "    \n",
    "    del_w = np.ones(shape=w_curr.shape)\n",
    "    del_w0 = 1\n",
    "    \n",
    "    i = 0\n",
    "    mbg = MiniBatchGenerator(X, y, batch_size=32)\n",
    "    while any(del_w) > 0 and i < 200:\n",
    "        X_mb, y_mb = next(mbg)\n",
    "\n",
    "        L_w0, L_w = loss_function(X_mb, y_mb, w_curr, w0_curr)\n",
    "        w_next = w_curr - lr * L_w * del_w\n",
    "        w0_next = w0_curr - lr * L_w0 * del_w0\n",
    "        \n",
    "        del_w = np.where(np.abs(w0_next - w_curr) < eps, 0, 1)\n",
    "        del_w0 = np.where(np.abs(w0_next - w0_curr) < eps, 0, 1)\n",
    "        \n",
    "        w_curr = w_next\n",
    "        w0_curr = w0_next\n",
    "    \n",
    "        i += 1\n",
    "    \n",
    "    return w_curr, w0_curr"
   ]
  },
  {
   "cell_type": "code",
   "execution_count": 47,
   "metadata": {
    "scrolled": true
   },
   "outputs": [
    {
     "name": "stdout",
     "output_type": "stream",
     "text": [
      "Generating minibatch. Batch size: 32, data: 2400\n",
      "(75, 32, 7)\n",
      "Generating minibatch. Batch size: 32, data: 2400\n",
      "(75, 32, 7)\n",
      "Generating minibatch. Batch size: 32, data: 2400\n",
      "(75, 32, 7)\n"
     ]
    }
   ],
   "source": [
    "w_curr, w0_curr = minibatch_gradient_descent(X_train_scaled, y_train.reshape(-1))"
   ]
  },
  {
   "cell_type": "code",
   "execution_count": 48,
   "metadata": {},
   "outputs": [
    {
     "data": {
      "text/plain": [
       "(array([ 0.88380363,  2.75270375, 13.50217806, -7.87076806,  1.3299489 ,\n",
       "        -6.94841031,  2.63904531]),\n",
       " 111.36735128478048)"
      ]
     },
     "execution_count": 48,
     "metadata": {},
     "output_type": "execute_result"
    }
   ],
   "source": [
    "w_curr, w0_curr"
   ]
  },
  {
   "cell_type": "code",
   "execution_count": 49,
   "metadata": {},
   "outputs": [],
   "source": [
    "y_pred_gd = (X_test_scaled @ w_curr) + w0_curr"
   ]
  },
  {
   "cell_type": "code",
   "execution_count": 50,
   "metadata": {},
   "outputs": [
    {
     "data": {
      "text/plain": [
       "991.5170718226334"
      ]
     },
     "execution_count": 50,
     "metadata": {},
     "output_type": "execute_result"
    }
   ],
   "source": [
    "mean_squared_error(y_true=y_test, y_pred=y_pred_gd)"
   ]
  },
  {
   "cell_type": "code",
   "execution_count": 51,
   "metadata": {},
   "outputs": [
    {
     "data": {
      "text/plain": [
       "0.3640117740141672"
      ]
     },
     "execution_count": 51,
     "metadata": {},
     "output_type": "execute_result"
    }
   ],
   "source": [
    "r2_score(y_true=y_test, y_pred=y_pred_gd)"
   ]
  },
  {
   "cell_type": "code",
   "execution_count": 1,
   "metadata": {},
   "outputs": [],
   "source": [
    "import numpy as np"
   ]
  },
  {
   "cell_type": "code",
   "execution_count": 2,
   "metadata": {
    "scrolled": true
   },
   "outputs": [
    {
     "data": {
      "text/plain": [
       "array([1., 1., 1., 1., 1.])"
      ]
     },
     "execution_count": 2,
     "metadata": {},
     "output_type": "execute_result"
    }
   ],
   "source": [
    "np.ones(shape=(5,))"
   ]
  },
  {
   "cell_type": "code",
   "execution_count": 3,
   "metadata": {
    "scrolled": true
   },
   "outputs": [
    {
     "data": {
      "text/plain": [
       "array([1., 1., 1., 1., 1.])"
      ]
     },
     "execution_count": 3,
     "metadata": {},
     "output_type": "execute_result"
    }
   ],
   "source": [
    "np.ones(shape=(5))"
   ]
  },
  {
   "cell_type": "code",
   "execution_count": null,
   "metadata": {},
   "outputs": [],
   "source": []
  },
  {
   "cell_type": "markdown",
   "metadata": {},
   "source": [
    "### Legacy MBGD"
   ]
  },
  {
   "cell_type": "code",
   "execution_count": 75,
   "metadata": {},
   "outputs": [],
   "source": [
    "def leg_minibatch_gradient_descent(X, y, eps=0.01, lr=0.001):\n",
    "    assert isinstance(X, np.ndarray)\n",
    "    assert isinstance(y, np.ndarray)\n",
    "    \n",
    "    assert X.ndim == 2\n",
    "    assert y.ndim == 1\n",
    "\n",
    "    n, d = X.shape\n",
    "\n",
    "    w_curr = np.random.rand(X.shape[-1]) * 1\n",
    "    w0_curr = np.random.randint(1)\n",
    "    \n",
    "    del_w = np.ones(shape=w_curr.shape)\n",
    "    del_w0 = 1\n",
    "    \n",
    "    i = 0\n",
    "    mbg = MiniBatchGenerator(X, y, batch_size=32)\n",
    "    while any(del_w) > 0 and i < 200:\n",
    "        X_mb, y_mb = next(mbg)\n",
    "\n",
    "        f = y_mb - (X_mb @ w_curr + w0_curr * np.ones(shape=(X_mb.shape[0],)))\n",
    "        w_next = w_curr - lr * (1/n) * (-2 * X_mb.T @ f) * del_w\n",
    "        w0_next = w0_curr - lr * (1/n) * (-2 * np.ones(shape=(X_mb.shape[0])) @ f) * del_w0\n",
    "        \n",
    "        del_w = np.where(np.abs(w0_next - w_curr) < eps, 0, 1)\n",
    "        del_w0 = np.where(np.abs(w0_next - w0_curr) < eps, 0, 1)\n",
    "        \n",
    "        w_curr = w_next\n",
    "        w0_curr = w0_next\n",
    "    \n",
    "        i += 1\n",
    "    \n",
    "    return w_curr, w0_curr"
   ]
  },
  {
   "cell_type": "code",
   "execution_count": null,
   "metadata": {},
   "outputs": [],
   "source": []
  }
 ],
 "metadata": {
  "kernelspec": {
   "display_name": "Python 3",
   "language": "python",
   "name": "python3"
  },
  "language_info": {
   "codemirror_mode": {
    "name": "ipython",
    "version": 3
   },
   "file_extension": ".py",
   "mimetype": "text/x-python",
   "name": "python",
   "nbconvert_exporter": "python",
   "pygments_lexer": "ipython3",
   "version": "3.8.5"
  }
 },
 "nbformat": 4,
 "nbformat_minor": 4
}
