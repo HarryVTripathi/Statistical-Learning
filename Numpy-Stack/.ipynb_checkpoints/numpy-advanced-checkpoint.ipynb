{
 "cells": [
  {
   "cell_type": "code",
   "execution_count": 2,
   "metadata": {},
   "outputs": [],
   "source": [
    "import numpy as np"
   ]
  },
  {
   "cell_type": "markdown",
   "metadata": {},
   "source": [
    "#### View vs Copy"
   ]
  },
  {
   "cell_type": "markdown",
   "metadata": {},
   "source": [
    "`view` creates shallow copy while `copy` creates deep copy\n",
    "\n",
    "> Access the array differently by just changing certain metadata like `stride` and `dtype` without changing the data buffer. This creates a new way of looking at the data and these new arrays are called views. The data buffer remains the same, so any changes made to a view reflects in the original copy."
   ]
  },
  {
   "cell_type": "code",
   "execution_count": 2,
   "metadata": {},
   "outputs": [],
   "source": [
    "og_arr = np.array([5, 9, 15, 21])"
   ]
  },
  {
   "cell_type": "code",
   "execution_count": 3,
   "metadata": {},
   "outputs": [
    {
     "name": "stdout",
     "output_type": "stream",
     "text": [
      "[ 6  9 15 21]\n",
      "[ 5  9 15 21]\n"
     ]
    }
   ],
   "source": [
    "cp9 = og_arr.copy()\n",
    "cp9[0] = 6\n",
    "print(cp9)\n",
    "print(og_arr)"
   ]
  },
  {
   "cell_type": "code",
   "execution_count": 4,
   "metadata": {},
   "outputs": [
    {
     "name": "stdout",
     "output_type": "stream",
     "text": [
      "[ 6  9 15 21]\n",
      "[ 6  9 15 21]\n"
     ]
    }
   ],
   "source": [
    "cp0 = og_arr.view()\n",
    "cp0[0] = 6\n",
    "print(cp0)\n",
    "print(og_arr)"
   ]
  },
  {
   "cell_type": "markdown",
   "metadata": {},
   "source": [
    "So `og_arr` changes as well."
   ]
  },
  {
   "cell_type": "code",
   "execution_count": 10,
   "metadata": {},
   "outputs": [
    {
     "data": {
      "text/plain": [
       "array([[[[0.67092056, 0.15784597, 0.48386653],\n",
       "         [0.97369318, 0.01764104, 0.96542136],\n",
       "         [0.57248924, 0.58069273, 0.5702775 ],\n",
       "         [0.19733103, 0.82451263, 0.88177775]],\n",
       "\n",
       "        [[0.25188003, 0.61163378, 0.88181282],\n",
       "         [0.66347581, 0.77692248, 0.8859976 ],\n",
       "         [0.11204033, 0.75380498, 0.32292482],\n",
       "         [0.10561936, 0.22941674, 0.79360653]],\n",
       "\n",
       "        [[0.29671113, 0.3188477 , 0.66119149],\n",
       "         [0.8032989 , 0.46201995, 0.23830548],\n",
       "         [0.05419379, 0.8908145 , 0.80178266],\n",
       "         [0.57748712, 0.65020347, 0.96352654]]],\n",
       "\n",
       "\n",
       "       [[[0.70034815, 0.5108154 , 0.46969253],\n",
       "         [0.21982049, 0.00326995, 0.87876271],\n",
       "         [0.53291755, 0.3340263 , 0.14396213],\n",
       "         [0.29663552, 0.08380586, 0.04986982]],\n",
       "\n",
       "        [[0.03948369, 0.72862269, 0.24061073],\n",
       "         [0.0609643 , 0.93493742, 0.30343186],\n",
       "         [0.11036118, 0.92624684, 0.55723774],\n",
       "         [0.01755226, 0.92319468, 0.39958595]],\n",
       "\n",
       "        [[0.00576494, 0.97577704, 0.07238125],\n",
       "         [0.79786921, 0.47361492, 0.88614809],\n",
       "         [0.80425659, 0.84580341, 0.71098309],\n",
       "         [0.90594799, 0.2153167 , 0.09183093]]]])"
      ]
     },
     "execution_count": 10,
     "metadata": {},
     "output_type": "execute_result"
    }
   ],
   "source": [
    "arr_4d = np.random.rand(2, 3, 4, 3)\n",
    "arr_4d"
   ]
  },
  {
   "cell_type": "markdown",
   "metadata": {},
   "source": [
    "#### Slicing\n",
    "\n",
    "NumPy slicing creates a `view` instead of a `copy` as in the case of built-in Python sequences such as string, tuple and list."
   ]
  },
  {
   "cell_type": "code",
   "execution_count": 25,
   "metadata": {},
   "outputs": [],
   "source": [
    "arr_4d[0, 2, 1] = [6, 6, 6]"
   ]
  },
  {
   "cell_type": "code",
   "execution_count": 26,
   "metadata": {},
   "outputs": [
    {
     "name": "stdout",
     "output_type": "stream",
     "text": [
      "[[0.29671113 0.3188477  0.66119149]\n",
      " [6.         6.         6.        ]\n",
      " [0.05419379 0.8908145  0.80178266]\n",
      " [0.57748712 0.65020347 0.96352654]]\n",
      "\n",
      "=====================================\n",
      "\n",
      "[[0.29671113 0.3188477  0.66119149]\n",
      " [6.         6.         6.        ]\n",
      " [0.05419379 0.8908145  0.80178266]\n",
      " [0.57748712 0.65020347 0.96352654]]\n"
     ]
    }
   ],
   "source": [
    "print(arr_4d[0][2])\n",
    "print(\"\\n=====================================\\n\")\n",
    "print(arr_4d[0, 2])"
   ]
  },
  {
   "cell_type": "markdown",
   "metadata": {},
   "source": [
    "Note that `arr_4d[0, 2] == arr_4d[0][2]` though the second case is more inefficient as a new temporary array is created after the first index that is subsequently indexed by 2."
   ]
  },
  {
   "cell_type": "markdown",
   "metadata": {},
   "source": [
    "#### Expanding dims with [`np.newaxis`](https://numpy.org/doc/stable/reference/constants.html#numpy.newaxis)"
   ]
  },
  {
   "cell_type": "code",
   "execution_count": 27,
   "metadata": {},
   "outputs": [
    {
     "data": {
      "text/plain": [
       "array([[[[[6.70920562e-01],\n",
       "          [1.57845973e-01],\n",
       "          [4.83866530e-01]],\n",
       "\n",
       "         [[6.00000000e+00],\n",
       "          [6.00000000e+00],\n",
       "          [6.00000000e+00]],\n",
       "\n",
       "         [[5.72489243e-01],\n",
       "          [5.80692733e-01],\n",
       "          [5.70277504e-01]],\n",
       "\n",
       "         [[1.97331027e-01],\n",
       "          [8.24512630e-01],\n",
       "          [8.81777750e-01]]],\n",
       "\n",
       "\n",
       "        [[[2.51880027e-01],\n",
       "          [6.11633785e-01],\n",
       "          [8.81812818e-01]],\n",
       "\n",
       "         [[6.63475810e-01],\n",
       "          [7.76922481e-01],\n",
       "          [8.85997605e-01]],\n",
       "\n",
       "         [[1.12040332e-01],\n",
       "          [7.53804976e-01],\n",
       "          [3.22924817e-01]],\n",
       "\n",
       "         [[1.05619365e-01],\n",
       "          [2.29416744e-01],\n",
       "          [7.93606534e-01]]],\n",
       "\n",
       "\n",
       "        [[[2.96711128e-01],\n",
       "          [3.18847699e-01],\n",
       "          [6.61191490e-01]],\n",
       "\n",
       "         [[6.00000000e+00],\n",
       "          [6.00000000e+00],\n",
       "          [6.00000000e+00]],\n",
       "\n",
       "         [[5.41937886e-02],\n",
       "          [8.90814505e-01],\n",
       "          [8.01782660e-01]],\n",
       "\n",
       "         [[5.77487116e-01],\n",
       "          [6.50203472e-01],\n",
       "          [9.63526538e-01]]]],\n",
       "\n",
       "\n",
       "\n",
       "       [[[[7.00348151e-01],\n",
       "          [5.10815401e-01],\n",
       "          [4.69692526e-01]],\n",
       "\n",
       "         [[2.19820493e-01],\n",
       "          [3.26994514e-03],\n",
       "          [8.78762711e-01]],\n",
       "\n",
       "         [[5.32917553e-01],\n",
       "          [3.34026299e-01],\n",
       "          [1.43962129e-01]],\n",
       "\n",
       "         [[2.96635516e-01],\n",
       "          [8.38058618e-02],\n",
       "          [4.98698178e-02]]],\n",
       "\n",
       "\n",
       "        [[[3.94836948e-02],\n",
       "          [7.28622694e-01],\n",
       "          [2.40610732e-01]],\n",
       "\n",
       "         [[6.09642980e-02],\n",
       "          [9.34937419e-01],\n",
       "          [3.03431856e-01]],\n",
       "\n",
       "         [[1.10361179e-01],\n",
       "          [9.26246837e-01],\n",
       "          [5.57237737e-01]],\n",
       "\n",
       "         [[1.75522589e-02],\n",
       "          [9.23194684e-01],\n",
       "          [3.99585946e-01]]],\n",
       "\n",
       "\n",
       "        [[[5.76493882e-03],\n",
       "          [9.75777038e-01],\n",
       "          [7.23812468e-02]],\n",
       "\n",
       "         [[7.97869212e-01],\n",
       "          [4.73614918e-01],\n",
       "          [8.86148090e-01]],\n",
       "\n",
       "         [[8.04256587e-01],\n",
       "          [8.45803407e-01],\n",
       "          [7.10983089e-01]],\n",
       "\n",
       "         [[9.05947991e-01],\n",
       "          [2.15316700e-01],\n",
       "          [9.18309289e-02]]]]])"
      ]
     },
     "execution_count": 27,
     "metadata": {},
     "output_type": "execute_result"
    }
   ],
   "source": [
    "arr_5d_1 = arr_4d[:, :, :, :, np.newaxis]\n",
    "arr_5d_1"
   ]
  },
  {
   "cell_type": "code",
   "execution_count": 28,
   "metadata": {},
   "outputs": [
    {
     "data": {
      "text/plain": [
       "array([[[[[6.70920562e-01, 1.57845973e-01, 4.83866530e-01]],\n",
       "\n",
       "         [[6.00000000e+00, 6.00000000e+00, 6.00000000e+00]],\n",
       "\n",
       "         [[5.72489243e-01, 5.80692733e-01, 5.70277504e-01]],\n",
       "\n",
       "         [[1.97331027e-01, 8.24512630e-01, 8.81777750e-01]]],\n",
       "\n",
       "\n",
       "        [[[2.51880027e-01, 6.11633785e-01, 8.81812818e-01]],\n",
       "\n",
       "         [[6.63475810e-01, 7.76922481e-01, 8.85997605e-01]],\n",
       "\n",
       "         [[1.12040332e-01, 7.53804976e-01, 3.22924817e-01]],\n",
       "\n",
       "         [[1.05619365e-01, 2.29416744e-01, 7.93606534e-01]]],\n",
       "\n",
       "\n",
       "        [[[2.96711128e-01, 3.18847699e-01, 6.61191490e-01]],\n",
       "\n",
       "         [[6.00000000e+00, 6.00000000e+00, 6.00000000e+00]],\n",
       "\n",
       "         [[5.41937886e-02, 8.90814505e-01, 8.01782660e-01]],\n",
       "\n",
       "         [[5.77487116e-01, 6.50203472e-01, 9.63526538e-01]]]],\n",
       "\n",
       "\n",
       "\n",
       "       [[[[7.00348151e-01, 5.10815401e-01, 4.69692526e-01]],\n",
       "\n",
       "         [[2.19820493e-01, 3.26994514e-03, 8.78762711e-01]],\n",
       "\n",
       "         [[5.32917553e-01, 3.34026299e-01, 1.43962129e-01]],\n",
       "\n",
       "         [[2.96635516e-01, 8.38058618e-02, 4.98698178e-02]]],\n",
       "\n",
       "\n",
       "        [[[3.94836948e-02, 7.28622694e-01, 2.40610732e-01]],\n",
       "\n",
       "         [[6.09642980e-02, 9.34937419e-01, 3.03431856e-01]],\n",
       "\n",
       "         [[1.10361179e-01, 9.26246837e-01, 5.57237737e-01]],\n",
       "\n",
       "         [[1.75522589e-02, 9.23194684e-01, 3.99585946e-01]]],\n",
       "\n",
       "\n",
       "        [[[5.76493882e-03, 9.75777038e-01, 7.23812468e-02]],\n",
       "\n",
       "         [[7.97869212e-01, 4.73614918e-01, 8.86148090e-01]],\n",
       "\n",
       "         [[8.04256587e-01, 8.45803407e-01, 7.10983089e-01]],\n",
       "\n",
       "         [[9.05947991e-01, 2.15316700e-01, 9.18309289e-02]]]]])"
      ]
     },
     "execution_count": 28,
     "metadata": {},
     "output_type": "execute_result"
    }
   ],
   "source": [
    "arr_5d_2 = arr_4d[:, :, :, np.newaxis, :]\n",
    "arr_5d_2"
   ]
  },
  {
   "cell_type": "markdown",
   "metadata": {},
   "source": [
    "#### Using [`Ellipsis`](https://docs.python.org/dev/library/constants.html#Ellipsis)"
   ]
  },
  {
   "cell_type": "code",
   "execution_count": 29,
   "metadata": {},
   "outputs": [
    {
     "data": {
      "text/plain": [
       "array([[[[1.57845973e-01],\n",
       "         [6.00000000e+00],\n",
       "         [5.80692733e-01],\n",
       "         [8.24512630e-01]],\n",
       "\n",
       "        [[6.11633785e-01],\n",
       "         [7.76922481e-01],\n",
       "         [7.53804976e-01],\n",
       "         [2.29416744e-01]],\n",
       "\n",
       "        [[3.18847699e-01],\n",
       "         [6.00000000e+00],\n",
       "         [8.90814505e-01],\n",
       "         [6.50203472e-01]]],\n",
       "\n",
       "\n",
       "       [[[5.10815401e-01],\n",
       "         [3.26994514e-03],\n",
       "         [3.34026299e-01],\n",
       "         [8.38058618e-02]],\n",
       "\n",
       "        [[7.28622694e-01],\n",
       "         [9.34937419e-01],\n",
       "         [9.26246837e-01],\n",
       "         [9.23194684e-01]],\n",
       "\n",
       "        [[9.75777038e-01],\n",
       "         [4.73614918e-01],\n",
       "         [8.45803407e-01],\n",
       "         [2.15316700e-01]]]])"
      ]
     },
     "execution_count": 29,
     "metadata": {},
     "output_type": "execute_result"
    }
   ],
   "source": [
    "arr_5d_2[:, :, :, :, 1]"
   ]
  },
  {
   "cell_type": "code",
   "execution_count": 22,
   "metadata": {},
   "outputs": [
    {
     "data": {
      "text/plain": [
       "array([[[[0.15784597],\n",
       "         [0.01764104],\n",
       "         [0.58069273],\n",
       "         [0.82451263]],\n",
       "\n",
       "        [[0.61163378],\n",
       "         [0.77692248],\n",
       "         [0.75380498],\n",
       "         [0.22941674]],\n",
       "\n",
       "        [[0.3188477 ],\n",
       "         [0.46201995],\n",
       "         [0.8908145 ],\n",
       "         [0.65020347]]],\n",
       "\n",
       "\n",
       "       [[[0.5108154 ],\n",
       "         [0.00326995],\n",
       "         [0.3340263 ],\n",
       "         [0.08380586]],\n",
       "\n",
       "        [[0.72862269],\n",
       "         [0.93493742],\n",
       "         [0.92624684],\n",
       "         [0.92319468]],\n",
       "\n",
       "        [[0.97577704],\n",
       "         [0.47361492],\n",
       "         [0.84580341],\n",
       "         [0.2153167 ]]]])"
      ]
     },
     "execution_count": 22,
     "metadata": {},
     "output_type": "execute_result"
    }
   ],
   "source": [
    "arr_5d_2[..., 1]"
   ]
  },
  {
   "cell_type": "markdown",
   "metadata": {},
   "source": [
    "### Advanced indexing\n",
    "\n",
    " - when the selection object, obj, is a non-tuple sequence object\n",
    "\n",
    "\n",
    " - an ndarray (of data type integer or bool)\n",
    "\n",
    "\n",
    " - a tuple with at least one sequence object or ndarray (of data type integer or bool)\n",
    " \n",
    " \n",
    " - two types of advanced indexing: integer and Boolean.\n",
    " \n",
    "Advanced indexing always returns a copy of the data (contrast with basic slicing that returns a view)."
   ]
  },
  {
   "cell_type": "markdown",
   "metadata": {},
   "source": [
    "#### Integer indexing\n",
    "\n",
    "Each integer array represents a number of indices into that dimension."
   ]
  },
  {
   "cell_type": "code",
   "execution_count": 30,
   "metadata": {},
   "outputs": [
    {
     "data": {
      "text/plain": [
       "array([10,  9,  8,  7,  6,  5,  4,  3,  2])"
      ]
     },
     "execution_count": 30,
     "metadata": {},
     "output_type": "execute_result"
    }
   ],
   "source": [
    "x = np.arange(10, 1, -1)\n",
    "x"
   ]
  },
  {
   "cell_type": "code",
   "execution_count": 33,
   "metadata": {},
   "outputs": [
    {
     "ename": "IndexError",
     "evalue": "too many indices for array: array is 1-dimensional, but 3 were indexed",
     "output_type": "error",
     "traceback": [
      "\u001b[1;31m---------------------------------------------------------------------------\u001b[0m",
      "\u001b[1;31mIndexError\u001b[0m                                Traceback (most recent call last)",
      "\u001b[1;32m<ipython-input-33-88a1e56611eb>\u001b[0m in \u001b[0;36m<module>\u001b[1;34m\u001b[0m\n\u001b[1;32m----> 1\u001b[1;33m \u001b[0mx\u001b[0m\u001b[1;33m[\u001b[0m\u001b[1;33m(\u001b[0m\u001b[1;36m1\u001b[0m\u001b[1;33m,\u001b[0m \u001b[1;36m2\u001b[0m\u001b[1;33m,\u001b[0m \u001b[1;33m-\u001b[0m\u001b[1;36m1\u001b[0m\u001b[1;33m)\u001b[0m\u001b[1;33m]\u001b[0m\u001b[1;33m\u001b[0m\u001b[1;33m\u001b[0m\u001b[0m\n\u001b[0m",
      "\u001b[1;31mIndexError\u001b[0m: too many indices for array: array is 1-dimensional, but 3 were indexed"
     ]
    }
   ],
   "source": [
    "x[(1, 2, -1)]"
   ]
  },
  {
   "cell_type": "code",
   "execution_count": 34,
   "metadata": {},
   "outputs": [
    {
     "data": {
      "text/plain": [
       "array([9, 8, 2])"
      ]
     },
     "execution_count": 34,
     "metadata": {},
     "output_type": "execute_result"
    }
   ],
   "source": [
    "x[(1, 2, -1),]"
   ]
  },
  {
   "cell_type": "code",
   "execution_count": 35,
   "metadata": {},
   "outputs": [
    {
     "data": {
      "text/plain": [
       "array([9, 8, 2])"
      ]
     },
     "execution_count": 35,
     "metadata": {},
     "output_type": "execute_result"
    }
   ],
   "source": [
    "x[np.array([1, 2, -1])]"
   ]
  },
  {
   "cell_type": "code",
   "execution_count": 40,
   "metadata": {},
   "outputs": [
    {
     "data": {
      "text/plain": [
       "array([[ 0,  1,  2,  3,  4,  5,  6],\n",
       "       [ 7,  8,  9, 10, 11, 12, 13],\n",
       "       [14, 15, 16, 17, 18, 19, 20],\n",
       "       [21, 22, 23, 24, 25, 26, 27],\n",
       "       [28, 29, 30, 31, 32, 33, 34]])"
      ]
     },
     "execution_count": 40,
     "metadata": {},
     "output_type": "execute_result"
    }
   ],
   "source": [
    "y = np.arange(35).reshape(5, 7)\n",
    "y"
   ]
  },
  {
   "cell_type": "code",
   "execution_count": 37,
   "metadata": {},
   "outputs": [
    {
     "data": {
      "text/plain": [
       "array([[ 0,  1,  2,  3,  4,  5,  6],\n",
       "       [14, 15, 16, 17, 18, 19, 20],\n",
       "       [28, 29, 30, 31, 32, 33, 34]])"
      ]
     },
     "execution_count": 37,
     "metadata": {},
     "output_type": "execute_result"
    }
   ],
   "source": [
    "y[np.array([0, 2, 4])]"
   ]
  },
  {
   "cell_type": "code",
   "execution_count": 38,
   "metadata": {},
   "outputs": [
    {
     "data": {
      "text/plain": [
       "array([ 0, 15, 30])"
      ]
     },
     "execution_count": 38,
     "metadata": {},
     "output_type": "execute_result"
    }
   ],
   "source": [
    "y[np.array([0, 2, 4]), np.array([0, 1, 2])]"
   ]
  },
  {
   "cell_type": "code",
   "execution_count": 43,
   "metadata": {},
   "outputs": [
    {
     "ename": "IndexError",
     "evalue": "shape mismatch: indexing arrays could not be broadcast together with shapes (3,) (2,) ",
     "output_type": "error",
     "traceback": [
      "\u001b[1;31m---------------------------------------------------------------------------\u001b[0m",
      "\u001b[1;31mIndexError\u001b[0m                                Traceback (most recent call last)",
      "\u001b[1;32m<ipython-input-43-759387413d9a>\u001b[0m in \u001b[0;36m<module>\u001b[1;34m\u001b[0m\n\u001b[1;32m----> 1\u001b[1;33m \u001b[0my\u001b[0m\u001b[1;33m[\u001b[0m\u001b[0mnp\u001b[0m\u001b[1;33m.\u001b[0m\u001b[0marray\u001b[0m\u001b[1;33m(\u001b[0m\u001b[1;33m[\u001b[0m\u001b[1;36m0\u001b[0m\u001b[1;33m,\u001b[0m \u001b[1;36m2\u001b[0m\u001b[1;33m,\u001b[0m \u001b[1;36m4\u001b[0m\u001b[1;33m]\u001b[0m\u001b[1;33m)\u001b[0m\u001b[1;33m,\u001b[0m \u001b[0mnp\u001b[0m\u001b[1;33m.\u001b[0m\u001b[0marray\u001b[0m\u001b[1;33m(\u001b[0m\u001b[1;33m[\u001b[0m\u001b[1;36m0\u001b[0m\u001b[1;33m,\u001b[0m \u001b[1;36m1\u001b[0m\u001b[1;33m]\u001b[0m\u001b[1;33m)\u001b[0m\u001b[1;33m]\u001b[0m\u001b[1;33m\u001b[0m\u001b[1;33m\u001b[0m\u001b[0m\n\u001b[0m",
      "\u001b[1;31mIndexError\u001b[0m: shape mismatch: indexing arrays could not be broadcast together with shapes (3,) (2,) "
     ]
    }
   ],
   "source": [
    "y[np.array([0, 2, 4]), np.array([0, 1])]"
   ]
  },
  {
   "cell_type": "markdown",
   "metadata": {},
   "source": [
    "#### Boolean indexing"
   ]
  },
  {
   "cell_type": "code",
   "execution_count": 57,
   "metadata": {},
   "outputs": [
    {
     "data": {
      "text/plain": [
       "array([[26, 11, 30, 34, 24,  0,  1],\n",
       "       [ 7, 22, 13, 28,  6, 19,  3],\n",
       "       [18, 23,  5, 14, 17, 25,  8],\n",
       "       [16, 31, 33,  9, 15, 10, 12],\n",
       "       [32, 27, 21, 20,  4, 29,  2]])"
      ]
     },
     "execution_count": 57,
     "metadata": {},
     "output_type": "execute_result"
    }
   ],
   "source": [
    "z = np.arange(35)\n",
    "np.random.shuffle(z)\n",
    "z = z.reshape(5, 7)\n",
    "z"
   ]
  },
  {
   "cell_type": "code",
   "execution_count": 58,
   "metadata": {},
   "outputs": [
    {
     "data": {
      "text/plain": [
       "array([[ True, False,  True,  True,  True, False, False],\n",
       "       [False,  True, False,  True, False, False, False],\n",
       "       [False,  True, False, False, False,  True, False],\n",
       "       [False,  True,  True, False, False, False, False],\n",
       "       [ True,  True,  True, False, False,  True, False]])"
      ]
     },
     "execution_count": 58,
     "metadata": {},
     "output_type": "execute_result"
    }
   ],
   "source": [
    "z > 20"
   ]
  },
  {
   "cell_type": "code",
   "execution_count": 63,
   "metadata": {},
   "outputs": [
    {
     "data": {
      "text/plain": [
       "array([[26, 11, 30, 34, 24,  0,  1],\n",
       "       [16, 31, 33,  9, 15, 10, 12],\n",
       "       [32, 27, 21, 20,  4, 29,  2]])"
      ]
     },
     "execution_count": 63,
     "metadata": {},
     "output_type": "execute_result"
    }
   ],
   "source": [
    "# All rows with sum greater than 120\n",
    "rowsum = z.sum(axis=1)\n",
    "z[rowsum > 120, :]"
   ]
  },
  {
   "cell_type": "code",
   "execution_count": 64,
   "metadata": {},
   "outputs": [
    {
     "data": {
      "text/plain": [
       "array([[[ 0,  1,  2,  3,  4],\n",
       "        [ 5,  6,  7,  8,  9],\n",
       "        [10, 11, 12, 13, 14]],\n",
       "\n",
       "       [[15, 16, 17, 18, 19],\n",
       "        [20, 21, 22, 23, 24],\n",
       "        [25, 26, 27, 28, 29]]])"
      ]
     },
     "execution_count": 64,
     "metadata": {},
     "output_type": "execute_result"
    }
   ],
   "source": [
    "x = np.arange(30).reshape(2, 3, 5)\n",
    "x"
   ]
  },
  {
   "cell_type": "code",
   "execution_count": 69,
   "metadata": {},
   "outputs": [
    {
     "ename": "IndexError",
     "evalue": "boolean index did not match indexed array along dimension 0; dimension is 2 but corresponding boolean dimension is 1",
     "output_type": "error",
     "traceback": [
      "\u001b[1;31m---------------------------------------------------------------------------\u001b[0m",
      "\u001b[1;31mIndexError\u001b[0m                                Traceback (most recent call last)",
      "\u001b[1;32m<ipython-input-69-7c00a44a7df5>\u001b[0m in \u001b[0;36m<module>\u001b[1;34m\u001b[0m\n\u001b[0;32m      1\u001b[0m \u001b[0mb\u001b[0m \u001b[1;33m=\u001b[0m \u001b[0mnp\u001b[0m\u001b[1;33m.\u001b[0m\u001b[0marray\u001b[0m\u001b[1;33m(\u001b[0m\u001b[1;33m[\u001b[0m\u001b[1;33m[\u001b[0m\u001b[1;32mTrue\u001b[0m\u001b[1;33m,\u001b[0m \u001b[1;32mTrue\u001b[0m\u001b[1;33m,\u001b[0m \u001b[1;32mFalse\u001b[0m\u001b[1;33m]\u001b[0m\u001b[1;33m]\u001b[0m\u001b[1;33m)\u001b[0m\u001b[1;33m\u001b[0m\u001b[1;33m\u001b[0m\u001b[0m\n\u001b[1;32m----> 2\u001b[1;33m \u001b[0mx\u001b[0m\u001b[1;33m[\u001b[0m\u001b[0mb\u001b[0m\u001b[1;33m]\u001b[0m\u001b[1;33m\u001b[0m\u001b[1;33m\u001b[0m\u001b[0m\n\u001b[0m",
      "\u001b[1;31mIndexError\u001b[0m: boolean index did not match indexed array along dimension 0; dimension is 2 but corresponding boolean dimension is 1"
     ]
    }
   ],
   "source": [
    "b = np.array([[True, True, False]])\n",
    "x[b]"
   ]
  },
  {
   "cell_type": "code",
   "execution_count": 76,
   "metadata": {},
   "outputs": [
    {
     "data": {
      "text/plain": [
       "array([[ 0,  1,  2,  3,  4],\n",
       "       [ 5,  6,  7,  8,  9],\n",
       "       [20, 21, 22, 23, 24],\n",
       "       [25, 26, 27, 28, 29]])"
      ]
     },
     "execution_count": 76,
     "metadata": {},
     "output_type": "execute_result"
    }
   ],
   "source": [
    "b = np.array([[True, True, False], [False, True, True]])\n",
    "x[b]"
   ]
  },
  {
   "cell_type": "code",
   "execution_count": 77,
   "metadata": {},
   "outputs": [
    {
     "data": {
      "text/plain": [
       "array([[ True,  True, False],\n",
       "       [False,  True,  True]])"
      ]
     },
     "execution_count": 77,
     "metadata": {},
     "output_type": "execute_result"
    }
   ],
   "source": [
    "b"
   ]
  },
  {
   "cell_type": "code",
   "execution_count": 78,
   "metadata": {},
   "outputs": [
    {
     "data": {
      "text/plain": [
       "((2, 3), (2, 3, 5))"
      ]
     },
     "execution_count": 78,
     "metadata": {},
     "output_type": "execute_result"
    }
   ],
   "source": [
    "b.shape, x.shape"
   ]
  },
  {
   "cell_type": "code",
   "execution_count": 73,
   "metadata": {},
   "outputs": [
    {
     "ename": "IndexError",
     "evalue": "boolean index did not match indexed array along dimension 0; dimension is 2 but corresponding boolean dimension is 3",
     "output_type": "error",
     "traceback": [
      "\u001b[1;31m---------------------------------------------------------------------------\u001b[0m",
      "\u001b[1;31mIndexError\u001b[0m                                Traceback (most recent call last)",
      "\u001b[1;32m<ipython-input-73-a4dfe829a68f>\u001b[0m in \u001b[0;36m<module>\u001b[1;34m\u001b[0m\n\u001b[0;32m      1\u001b[0m \u001b[0mb\u001b[0m \u001b[1;33m=\u001b[0m \u001b[0mnp\u001b[0m\u001b[1;33m.\u001b[0m\u001b[0marray\u001b[0m\u001b[1;33m(\u001b[0m\u001b[1;33m[\u001b[0m\u001b[1;33m[\u001b[0m\u001b[1;32mTrue\u001b[0m\u001b[1;33m,\u001b[0m \u001b[1;32mTrue\u001b[0m\u001b[1;33m,\u001b[0m \u001b[1;32mFalse\u001b[0m\u001b[1;33m]\u001b[0m\u001b[1;33m,\u001b[0m \u001b[1;33m[\u001b[0m\u001b[1;32mFalse\u001b[0m\u001b[1;33m,\u001b[0m \u001b[1;32mTrue\u001b[0m\u001b[1;33m,\u001b[0m \u001b[1;32mTrue\u001b[0m\u001b[1;33m]\u001b[0m\u001b[1;33m,\u001b[0m \u001b[1;33m[\u001b[0m\u001b[1;32mFalse\u001b[0m\u001b[1;33m,\u001b[0m \u001b[1;32mTrue\u001b[0m\u001b[1;33m,\u001b[0m \u001b[1;32mTrue\u001b[0m\u001b[1;33m]\u001b[0m\u001b[1;33m]\u001b[0m\u001b[1;33m)\u001b[0m\u001b[1;33m\u001b[0m\u001b[1;33m\u001b[0m\u001b[0m\n\u001b[1;32m----> 2\u001b[1;33m \u001b[0mx\u001b[0m\u001b[1;33m[\u001b[0m\u001b[0mb\u001b[0m\u001b[1;33m]\u001b[0m\u001b[1;33m\u001b[0m\u001b[1;33m\u001b[0m\u001b[0m\n\u001b[0m",
      "\u001b[1;31mIndexError\u001b[0m: boolean index did not match indexed array along dimension 0; dimension is 2 but corresponding boolean dimension is 3"
     ]
    }
   ],
   "source": [
    "b = np.array([[True, True, False], [False, True, True], [False, True, True]])\n",
    "x[b]"
   ]
  },
  {
   "cell_type": "code",
   "execution_count": 74,
   "metadata": {},
   "outputs": [
    {
     "ename": "IndexError",
     "evalue": "boolean index did not match indexed array along dimension 1; dimension is 3 but corresponding boolean dimension is 2",
     "output_type": "error",
     "traceback": [
      "\u001b[1;31m---------------------------------------------------------------------------\u001b[0m",
      "\u001b[1;31mIndexError\u001b[0m                                Traceback (most recent call last)",
      "\u001b[1;32m<ipython-input-74-f2b2d553778e>\u001b[0m in \u001b[0;36m<module>\u001b[1;34m\u001b[0m\n\u001b[0;32m      1\u001b[0m \u001b[0mb\u001b[0m \u001b[1;33m=\u001b[0m \u001b[0mnp\u001b[0m\u001b[1;33m.\u001b[0m\u001b[0marray\u001b[0m\u001b[1;33m(\u001b[0m\u001b[1;33m[\u001b[0m\u001b[1;33m[\u001b[0m\u001b[1;32mTrue\u001b[0m\u001b[1;33m,\u001b[0m \u001b[1;32mTrue\u001b[0m\u001b[1;33m]\u001b[0m\u001b[1;33m,\u001b[0m \u001b[1;33m[\u001b[0m\u001b[1;32mFalse\u001b[0m\u001b[1;33m,\u001b[0m \u001b[1;32mTrue\u001b[0m\u001b[1;33m]\u001b[0m\u001b[1;33m]\u001b[0m\u001b[1;33m)\u001b[0m\u001b[1;33m\u001b[0m\u001b[1;33m\u001b[0m\u001b[0m\n\u001b[1;32m----> 2\u001b[1;33m \u001b[0mx\u001b[0m\u001b[1;33m[\u001b[0m\u001b[0mb\u001b[0m\u001b[1;33m]\u001b[0m\u001b[1;33m\u001b[0m\u001b[1;33m\u001b[0m\u001b[0m\n\u001b[0m",
      "\u001b[1;31mIndexError\u001b[0m: boolean index did not match indexed array along dimension 1; dimension is 3 but corresponding boolean dimension is 2"
     ]
    }
   ],
   "source": [
    "b = np.array([[True, True], [False, True]])\n",
    "x[b]"
   ]
  },
  {
   "cell_type": "markdown",
   "metadata": {},
   "source": [
    "For subsequent dims not specified in bool array, `:` will be taken"
   ]
  },
  {
   "cell_type": "code",
   "execution_count": 90,
   "metadata": {},
   "outputs": [
    {
     "data": {
      "text/plain": [
       "array([[[ 0,  1,  2,  3,  4],\n",
       "        [ 5,  6,  7,  8,  9],\n",
       "        [10, 11, 12, 13, 14]]])"
      ]
     },
     "execution_count": 90,
     "metadata": {},
     "output_type": "execute_result"
    }
   ],
   "source": [
    "# Selecting/filtering from axis 0\n",
    "\n",
    "b = np.array([True, False])\n",
    "x[b] # Equivalent to x[b, :, :]"
   ]
  },
  {
   "cell_type": "code",
   "execution_count": 92,
   "metadata": {},
   "outputs": [
    {
     "data": {
      "text/plain": [
       "array([[ 0,  1,  2,  3,  4],\n",
       "       [ 5,  6,  7,  8,  9],\n",
       "       [20, 21, 22, 23, 24],\n",
       "       [25, 26, 27, 28, 29]])"
      ]
     },
     "execution_count": 92,
     "metadata": {},
     "output_type": "execute_result"
    }
   ],
   "source": [
    "# Selecting/filtering from axis 1\n",
    "\n",
    "b = np.array([[ True, True, False ],\n",
    "              [ False, True, True ]])\n",
    "x[b, :] # Equivalent to x[b, :]"
   ]
  },
  {
   "cell_type": "code",
   "execution_count": 88,
   "metadata": {},
   "outputs": [
    {
     "data": {
      "text/plain": [
       "array([ 0,  7,  8,  9, 10, 11, 14, 15, 16, 19, 22, 23, 24, 25, 27, 28])"
      ]
     },
     "execution_count": 88,
     "metadata": {},
     "output_type": "execute_result"
    }
   ],
   "source": [
    "# Selecting/filtering from axis 2\n",
    "\n",
    "b = np.array([[[ True,  False,  False,  False,  False ],\n",
    "               [ False,  False,  True,  True,  True ],\n",
    "               [ True,  True,  False,  False,  True ]],\n",
    "\n",
    "              [[ True,  True,  False,  False, True ],\n",
    "               [False,  False,  True,  True,  True ],\n",
    "               [True,  False,  True,  True,  False ]]])\n",
    "x[b]"
   ]
  },
  {
   "cell_type": "markdown",
   "metadata": {},
   "source": [
    "### Broadcasting:\n",
    "\n",
    "> Arrays with different shapes during arithmetic operations, subject to certain constraints - the smaller array is *broadcast* across the larger array so that they have compatible shapes. Broadcasting provides a means of vectorizing array operations so that looping occurs in C instead of Python.\n",
    "\n",
    "When operating on two arrays, NumPy compares their shapes element-wise. It starts with the trailing (i.e. rightmost) dimensions and works its way left. Two dimensions are compatible when\n",
    "\n",
    " - they are equal, or\n",
    "\n",
    " - one of them is 1\n",
    " \n",
    " - Arrays do not need to have the same number of dimensions.\n",
    " \n",
    "\n",
    "**Example:**\n",
    "\n",
    "```\n",
    "A      (4d array):  8 x 1 x 6 x 1\n",
    "B      (3d array):      7 x 1 x 5\n",
    "Result (4d array):  8 x 7 x 6 x 5\n",
    "```\n",
    "\n",
    "\n",
    " - Lining up the sizes of the trailing axes of the arrays to see if that they are compatible:\n",
    "\n",
    " - When either of the dimensions compared is one, the other is used. In other words, dimensions with size 1 are stretched or *copied* to match the other.\n",
    " \n",
    "Can have applications in image processing."
   ]
  },
  {
   "cell_type": "code",
   "execution_count": 6,
   "metadata": {},
   "outputs": [
    {
     "data": {
      "text/plain": [
       "<numpy.broadcast at 0x232770cb420>"
      ]
     },
     "execution_count": 6,
     "metadata": {},
     "output_type": "execute_result"
    }
   ],
   "source": [
    "x = np.array([[1], [2], [3]])\n",
    "y = np.array([4, 5, 6])\n",
    "b = np.broadcast(x, y)\n",
    "b"
   ]
  },
  {
   "cell_type": "code",
   "execution_count": null,
   "metadata": {},
   "outputs": [],
   "source": []
  }
 ],
 "metadata": {
  "kernelspec": {
   "display_name": "Python 3",
   "language": "python",
   "name": "python3"
  },
  "language_info": {
   "codemirror_mode": {
    "name": "ipython",
    "version": 3
   },
   "file_extension": ".py",
   "mimetype": "text/x-python",
   "name": "python",
   "nbconvert_exporter": "python",
   "pygments_lexer": "ipython3",
   "version": "3.8.5"
  }
 },
 "nbformat": 4,
 "nbformat_minor": 4
}
